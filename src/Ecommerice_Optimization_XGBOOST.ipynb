{
  "nbformat": 4,
  "nbformat_minor": 0,
  "metadata": {
    "colab": {
      "provenance": [],
      "include_colab_link": true
    },
    "kernelspec": {
      "name": "python3",
      "display_name": "Python 3"
    },
    "language_info": {
      "name": "python"
    }
  },
  "cells": [
    {
      "cell_type": "markdown",
      "metadata": {
        "id": "view-in-github",
        "colab_type": "text"
      },
      "source": [
        "<a href=\"https://colab.research.google.com/github/itsalanthomas/shipping-optimization/blob/dev/src/Ecommerice_Optimization_XGBOOST.ipynb\" target=\"_parent\"><img src=\"https://colab.research.google.com/assets/colab-badge.svg\" alt=\"Open In Colab\"/></a>"
      ]
    },
    {
      "cell_type": "code",
      "execution_count": null,
      "metadata": {
        "id": "eD-F4uQCI_Kl"
      },
      "outputs": [],
      "source": [
        "# Load libraries\n",
        "from google.colab import files\n",
        "from io import StringIO\n",
        "import pandas as pd\n",
        "import numpy as np\n",
        "import xgboost as xgb\n",
        "from sklearn.preprocessing import LabelEncoder\n",
        "from sklearn.model_selection import train_test_split\n",
        "from sklearn.metrics import classification_report, accuracy_score, confusion_matrix\n",
        "\n",
        "# Upload and read the file\n",
        "uploaded = files.upload()\n",
        "filename = 'ecommerce_shipping.csv'\n",
        "\n",
        "with open(filename, 'r') as file:\n",
        "    csv_text = file.read()\n",
        "\n",
        "df = pd.read_csv(StringIO(csv_text))\n",
        "\n",
        "# Rename columns\n",
        "df.columns = [col.strip().replace('_', ' ').title() for col in df.columns]\n",
        "df.rename(columns={'Reached.On.Time Y.N': 'On-time Delivery'}, inplace=True)\n",
        "\n",
        "# Feature Engineering\n",
        "df['Net Price'] = df['Cost Of The Product'] - df['Discount Offered']\n",
        "df['Discount Ratio'] = round(df['Discount Offered'] / df['Cost Of The Product'], 2)\n",
        "\n",
        "# Status Of Mode By Shipment\n",
        "late_rate_lookup = df.groupby('Mode Of Shipment')['On-time Delivery'].mean().round(2).to_dict()\n",
        "df['Status Of Mode By Shipment'] = df['Mode Of Shipment'].map(late_rate_lookup)\n",
        "\n",
        "# Label encode categorical variables\n",
        "product_order = {'low': 0, 'medium': 1, 'high': 2}\n",
        "df['Product Importance'] = df['Product Importance'].map(product_order)\n",
        "\n",
        "label_cols = ['Warehouse Block', 'Mode Of Shipment', 'Gender']\n",
        "for col in label_cols:\n",
        "    le = LabelEncoder()\n",
        "    df[col] = le.fit_transform(df[col])\n",
        "\n",
        "# Drop columns not needed in the model\n",
        "df.drop(columns=['ID'], inplace=True, errors='ignore')\n",
        "\n",
        "# Define feature matrix X and target y\n",
        "X = df.drop(columns=['On-time Delivery'])\n",
        "y = df['On-time Delivery']\n",
        "\n",
        "# Train-test split (70/30)\n",
        "X_train, X_test, y_train, y_test = train_test_split(X, y, test_size=0.3, random_state=42)\n",
        "\n",
        "# Initialize and train XGBoost Classifier\n",
        "model_xgb = xgb.XGBClassifier(use_label_encoder=False, eval_metric='logloss', random_state=42)\n",
        "model_xgb.fit(X_train, y_train)\n",
        "\n",
        "# Predict and evaluate\n",
        "y_pred = model_xgb.predict(X_test)\n",
        "\n",
        "print(\"Accuracy:\", round(accuracy_score(y_test, y_pred), 2))\n",
        "print(\"\\nClassification Report:\\n\", classification_report(y_test, y_pred))\n",
        "print(\"Confusion Matrix:\\n\", confusion_matrix(y_test, y_pred))"
      ]
    }
  ]
}