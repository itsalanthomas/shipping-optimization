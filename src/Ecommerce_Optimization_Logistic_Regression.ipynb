{
  "nbformat": 4,
  "nbformat_minor": 0,
  "metadata": {
    "colab": {
      "provenance": [],
      "include_colab_link": true
    },
    "kernelspec": {
      "name": "python3",
      "display_name": "Python 3"
    },
    "language_info": {
      "name": "python"
    }
  },
  "cells": [
    {
      "cell_type": "markdown",
      "metadata": {
        "id": "view-in-github",
        "colab_type": "text"
      },
      "source": [
        "<a href=\"https://colab.research.google.com/github/itsalanthomas/shipping-optimization/blob/dev/src/Ecommerce_Optimization_Logistic_Regression.ipynb\" target=\"_parent\"><img src=\"https://colab.research.google.com/assets/colab-badge.svg\" alt=\"Open In Colab\"/></a>"
      ]
    },
    {
      "cell_type": "code",
      "execution_count": 19,
      "metadata": {
        "colab": {
          "base_uri": "https://localhost:8080/",
          "height": 403
        },
        "id": "kvnTFPp84ZF6",
        "outputId": "413b15e2-ad20-4074-9bfe-31fd30eb41a3"
      },
      "outputs": [
        {
          "output_type": "display_data",
          "data": {
            "text/plain": [
              "<IPython.core.display.HTML object>"
            ],
            "text/html": [
              "\n",
              "     <input type=\"file\" id=\"files-a2b5aee1-daa6-4934-9405-61ea406d4078\" name=\"files[]\" multiple disabled\n",
              "        style=\"border:none\" />\n",
              "     <output id=\"result-a2b5aee1-daa6-4934-9405-61ea406d4078\">\n",
              "      Upload widget is only available when the cell has been executed in the\n",
              "      current browser session. Please rerun this cell to enable.\n",
              "      </output>\n",
              "      <script>// Copyright 2017 Google LLC\n",
              "//\n",
              "// Licensed under the Apache License, Version 2.0 (the \"License\");\n",
              "// you may not use this file except in compliance with the License.\n",
              "// You may obtain a copy of the License at\n",
              "//\n",
              "//      http://www.apache.org/licenses/LICENSE-2.0\n",
              "//\n",
              "// Unless required by applicable law or agreed to in writing, software\n",
              "// distributed under the License is distributed on an \"AS IS\" BASIS,\n",
              "// WITHOUT WARRANTIES OR CONDITIONS OF ANY KIND, either express or implied.\n",
              "// See the License for the specific language governing permissions and\n",
              "// limitations under the License.\n",
              "\n",
              "/**\n",
              " * @fileoverview Helpers for google.colab Python module.\n",
              " */\n",
              "(function(scope) {\n",
              "function span(text, styleAttributes = {}) {\n",
              "  const element = document.createElement('span');\n",
              "  element.textContent = text;\n",
              "  for (const key of Object.keys(styleAttributes)) {\n",
              "    element.style[key] = styleAttributes[key];\n",
              "  }\n",
              "  return element;\n",
              "}\n",
              "\n",
              "// Max number of bytes which will be uploaded at a time.\n",
              "const MAX_PAYLOAD_SIZE = 100 * 1024;\n",
              "\n",
              "function _uploadFiles(inputId, outputId) {\n",
              "  const steps = uploadFilesStep(inputId, outputId);\n",
              "  const outputElement = document.getElementById(outputId);\n",
              "  // Cache steps on the outputElement to make it available for the next call\n",
              "  // to uploadFilesContinue from Python.\n",
              "  outputElement.steps = steps;\n",
              "\n",
              "  return _uploadFilesContinue(outputId);\n",
              "}\n",
              "\n",
              "// This is roughly an async generator (not supported in the browser yet),\n",
              "// where there are multiple asynchronous steps and the Python side is going\n",
              "// to poll for completion of each step.\n",
              "// This uses a Promise to block the python side on completion of each step,\n",
              "// then passes the result of the previous step as the input to the next step.\n",
              "function _uploadFilesContinue(outputId) {\n",
              "  const outputElement = document.getElementById(outputId);\n",
              "  const steps = outputElement.steps;\n",
              "\n",
              "  const next = steps.next(outputElement.lastPromiseValue);\n",
              "  return Promise.resolve(next.value.promise).then((value) => {\n",
              "    // Cache the last promise value to make it available to the next\n",
              "    // step of the generator.\n",
              "    outputElement.lastPromiseValue = value;\n",
              "    return next.value.response;\n",
              "  });\n",
              "}\n",
              "\n",
              "/**\n",
              " * Generator function which is called between each async step of the upload\n",
              " * process.\n",
              " * @param {string} inputId Element ID of the input file picker element.\n",
              " * @param {string} outputId Element ID of the output display.\n",
              " * @return {!Iterable<!Object>} Iterable of next steps.\n",
              " */\n",
              "function* uploadFilesStep(inputId, outputId) {\n",
              "  const inputElement = document.getElementById(inputId);\n",
              "  inputElement.disabled = false;\n",
              "\n",
              "  const outputElement = document.getElementById(outputId);\n",
              "  outputElement.innerHTML = '';\n",
              "\n",
              "  const pickedPromise = new Promise((resolve) => {\n",
              "    inputElement.addEventListener('change', (e) => {\n",
              "      resolve(e.target.files);\n",
              "    });\n",
              "  });\n",
              "\n",
              "  const cancel = document.createElement('button');\n",
              "  inputElement.parentElement.appendChild(cancel);\n",
              "  cancel.textContent = 'Cancel upload';\n",
              "  const cancelPromise = new Promise((resolve) => {\n",
              "    cancel.onclick = () => {\n",
              "      resolve(null);\n",
              "    };\n",
              "  });\n",
              "\n",
              "  // Wait for the user to pick the files.\n",
              "  const files = yield {\n",
              "    promise: Promise.race([pickedPromise, cancelPromise]),\n",
              "    response: {\n",
              "      action: 'starting',\n",
              "    }\n",
              "  };\n",
              "\n",
              "  cancel.remove();\n",
              "\n",
              "  // Disable the input element since further picks are not allowed.\n",
              "  inputElement.disabled = true;\n",
              "\n",
              "  if (!files) {\n",
              "    return {\n",
              "      response: {\n",
              "        action: 'complete',\n",
              "      }\n",
              "    };\n",
              "  }\n",
              "\n",
              "  for (const file of files) {\n",
              "    const li = document.createElement('li');\n",
              "    li.append(span(file.name, {fontWeight: 'bold'}));\n",
              "    li.append(span(\n",
              "        `(${file.type || 'n/a'}) - ${file.size} bytes, ` +\n",
              "        `last modified: ${\n",
              "            file.lastModifiedDate ? file.lastModifiedDate.toLocaleDateString() :\n",
              "                                    'n/a'} - `));\n",
              "    const percent = span('0% done');\n",
              "    li.appendChild(percent);\n",
              "\n",
              "    outputElement.appendChild(li);\n",
              "\n",
              "    const fileDataPromise = new Promise((resolve) => {\n",
              "      const reader = new FileReader();\n",
              "      reader.onload = (e) => {\n",
              "        resolve(e.target.result);\n",
              "      };\n",
              "      reader.readAsArrayBuffer(file);\n",
              "    });\n",
              "    // Wait for the data to be ready.\n",
              "    let fileData = yield {\n",
              "      promise: fileDataPromise,\n",
              "      response: {\n",
              "        action: 'continue',\n",
              "      }\n",
              "    };\n",
              "\n",
              "    // Use a chunked sending to avoid message size limits. See b/62115660.\n",
              "    let position = 0;\n",
              "    do {\n",
              "      const length = Math.min(fileData.byteLength - position, MAX_PAYLOAD_SIZE);\n",
              "      const chunk = new Uint8Array(fileData, position, length);\n",
              "      position += length;\n",
              "\n",
              "      const base64 = btoa(String.fromCharCode.apply(null, chunk));\n",
              "      yield {\n",
              "        response: {\n",
              "          action: 'append',\n",
              "          file: file.name,\n",
              "          data: base64,\n",
              "        },\n",
              "      };\n",
              "\n",
              "      let percentDone = fileData.byteLength === 0 ?\n",
              "          100 :\n",
              "          Math.round((position / fileData.byteLength) * 100);\n",
              "      percent.textContent = `${percentDone}% done`;\n",
              "\n",
              "    } while (position < fileData.byteLength);\n",
              "  }\n",
              "\n",
              "  // All done.\n",
              "  yield {\n",
              "    response: {\n",
              "      action: 'complete',\n",
              "    }\n",
              "  };\n",
              "}\n",
              "\n",
              "scope.google = scope.google || {};\n",
              "scope.google.colab = scope.google.colab || {};\n",
              "scope.google.colab._files = {\n",
              "  _uploadFiles,\n",
              "  _uploadFilesContinue,\n",
              "};\n",
              "})(self);\n",
              "</script> "
            ]
          },
          "metadata": {}
        },
        {
          "output_type": "stream",
          "name": "stdout",
          "text": [
            "Saving ecommerce_shipping.csv to ecommerce_shipping (3).csv\n",
            "<class 'pandas.core.frame.DataFrame'>\n",
            "RangeIndex: 10999 entries, 0 to 10998\n",
            "Data columns (total 12 columns):\n",
            " #   Column               Non-Null Count  Dtype \n",
            "---  ------               --------------  ----- \n",
            " 0   ID                   10999 non-null  int64 \n",
            " 1   Warehouse_block      10999 non-null  object\n",
            " 2   Mode_of_Shipment     10999 non-null  object\n",
            " 3   Customer_care_calls  10999 non-null  int64 \n",
            " 4   Customer_rating      10999 non-null  int64 \n",
            " 5   Cost_of_the_Product  10999 non-null  int64 \n",
            " 6   Prior_purchases      10999 non-null  int64 \n",
            " 7   Product_importance   10999 non-null  object\n",
            " 8   Gender               10999 non-null  object\n",
            " 9   Discount_offered     10999 non-null  int64 \n",
            " 10  Weight_in_gms        10999 non-null  int64 \n",
            " 11  Reached.on.Time_Y.N  10999 non-null  int64 \n",
            "dtypes: int64(8), object(4)\n",
            "memory usage: 1.0+ MB\n"
          ]
        }
      ],
      "source": [
        "# load libraries\n",
        "from google.colab import files\n",
        "from io import StringIO\n",
        "import pandas  as pd\n",
        "import numpy as np\n",
        "import matplotlib.pyplot as plt\n",
        "import seaborn as sns\n",
        "import sklearn\n",
        "from sklearn.preprocessing import LabelEncoder,StandardScaler\n",
        "from sklearn.decomposition import PCA\n",
        "from statsmodels.stats.outliers_influence import variance_inflation_factor\n",
        "from sklearn.model_selection import train_test_split\n",
        "from sklearn.linear_model import LogisticRegression\n",
        "from sklearn.metrics import classification_report, accuracy_score, confusion_matrix\n",
        "\n",
        "\n",
        "# load data in with file simulation\n",
        "uploaded = files.upload()\n",
        "filename = 'ecommerce_shipping.csv'\n",
        "\n",
        "with open(filename, 'r') as file:\n",
        "  csv_text = file.read()\n",
        "\n",
        "# create df\n",
        "df = pd.read_csv(StringIO(csv_text))\n",
        "\n",
        "# EDA - Exploratory Data Analysis\n",
        "df.info()\n",
        "df.describe()\n",
        "df.isnull().sum() #check count of null values in columns\n",
        "df[df.isnull().any(axis = 1)] #check if there are any missing values in rows\n",
        "\n",
        "# rename columns\n",
        "new_cols = []\n",
        "for col in df.columns:\n",
        "    new_col = col.replace('_', ' ').title()\n",
        "    new_cols.append(new_col)\n",
        "\n",
        "df.columns = new_cols\n",
        "df.rename(columns={'Reached.On.Time Y.N': 'On-time Delivery'},inplace=True)\n"
      ]
    },
    {
      "cell_type": "code",
      "source": [
        "#creating dictionary to map the order for importance\n",
        "product_order = {'low': 0 ,'medium':1, 'high':2}\n",
        "df['Product Importance'] = df['Product Importance'].map(product_order)\n",
        "\n",
        "#New features from dataset.\n",
        "df['Total Price'] = df['Cost Of The Product'] - df['Discount Offered']\n",
        "df['Cost Rate'] = round((df['Cost Of The Product']/df['Discount Offered']) + 1, 2)"
      ],
      "metadata": {
        "id": "eCTtLALD7E4l"
      },
      "execution_count": 20,
      "outputs": []
    },
    {
      "cell_type": "code",
      "source": [
        "#columns to encode and initialize encoder\n",
        "columns = ['Warehouse Block','Mode Of Shipment', 'Gender']\n",
        "encoder = pd.get_dummies(df[columns], drop_first=True)\n",
        "encoder = encoder.astype(int)\n",
        "df_new = pd.concat([df.drop(columns = columns), encoder], axis=1)"
      ],
      "metadata": {
        "id": "iRBUtEHzLUNb"
      },
      "execution_count": 21,
      "outputs": []
    },
    {
      "cell_type": "code",
      "source": [
        "#Scaling nominal data\n",
        "scaler = StandardScaler()\n",
        "columns_to_scale = ['Customer Rating','Cost Of The Product',\n",
        "                    'Prior Purchases', 'Product Importance',\n",
        "                    'Discount Offered', 'Weight In Gms',\n",
        "                    'Total Price','Cost Rate']\n",
        "df_new_scaled = scaler.fit_transform(df_new[columns_to_scale])\n",
        "df_new_scaled = pd.DataFrame(df_new_scaled, columns = columns_to_scale)\n",
        "df_new_scaled = pd.concat([df_new.drop(columns = columns_to_scale), df_new_scaled], axis = 1)"
      ],
      "metadata": {
        "id": "U-GtP6zbLo1d"
      },
      "execution_count": 23,
      "outputs": []
    },
    {
      "cell_type": "code",
      "source": [
        "#Checking for multicollinearity values greater than 5 (ignoring the total price since that was created from two other features)\n",
        "#taking out correlated columns (price ones)\n",
        "df_vif = df_new_scaled.drop(columns = ['Total Price','Cost Of The Product','Discount Offered','Cost Rate'])\n",
        "\n",
        "vif = pd.DataFrame()\n",
        "vif['feature']  = df_vif.columns\n",
        "vif['VIF'] = [variance_inflation_factor(df_vif.values, i) for i in range(df_vif.shape[1])]\n",
        "print(vif)"
      ],
      "metadata": {
        "id": "PlQs1onxLq8b",
        "outputId": "a80fbe33-973c-4664-8f3d-acec935a78ec",
        "colab": {
          "base_uri": "https://localhost:8080/"
        }
      },
      "execution_count": 24,
      "outputs": [
        {
          "output_type": "stream",
          "name": "stdout",
          "text": [
            "                  feature        VIF\n",
            "0                      Id   5.081097\n",
            "1     Customer Care Calls  10.057208\n",
            "2        On-time Delivery   2.626789\n",
            "3       Warehouse Block_B   1.817151\n",
            "4       Warehouse Block_C   1.824856\n",
            "5       Warehouse Block_D   1.820068\n",
            "6       Warehouse Block_F   2.653188\n",
            "7   Mode Of Shipment_Road   1.784536\n",
            "8   Mode Of Shipment_Ship   4.316716\n",
            "9                Gender_M   1.922786\n",
            "10        Customer Rating   1.000519\n",
            "11        Prior Purchases   1.075453\n",
            "12     Product Importance   1.019861\n",
            "13          Weight In Gms   1.302657\n"
          ]
        }
      ]
    },
    {
      "cell_type": "code",
      "source": [
        "#Drop the columns that are linearly correlated and target variable.\n",
        "X = df_new_scaled.drop(columns = ['On-time Delivery','Cost Of The Product','Discount Offered','Id','Customer Care Calls'])\n",
        "y = df_new_scaled['On-time Delivery']"
      ],
      "metadata": {
        "id": "YdCR7taLL5-g"
      },
      "execution_count": 25,
      "outputs": []
    },
    {
      "cell_type": "code",
      "source": [
        "#Splitting data\n",
        "X_train, X_test, y_train, y_test = train_test_split(X,y,test_size = 0.3, random_state = 42)\n",
        ""
      ],
      "metadata": {
        "id": "fNPJbALmNzlF"
      },
      "execution_count": 26,
      "outputs": []
    },
    {
      "cell_type": "code",
      "source": [
        "#Create Model\n",
        "model_logreg = LogisticRegression()\n",
        "\n",
        "#train model\n",
        "model_logreg.fit(X_train, y_train)\n",
        "\n",
        "#predict\n",
        "y_pred = model_logreg.predict(X_test)"
      ],
      "metadata": {
        "id": "U2FEIZvBN1zR"
      },
      "execution_count": 27,
      "outputs": []
    },
    {
      "cell_type": "code",
      "source": [
        "print('Accuracy:', round(accuracy_score(y_test, y_pred),2))\n",
        "print(\"Classification Report:\\n\", classification_report(y_test, y_pred))"
      ],
      "metadata": {
        "id": "lvojngGXN3Ag",
        "outputId": "f71309a4-2af8-41eb-d7ad-4e13f42cd958",
        "colab": {
          "base_uri": "https://localhost:8080/"
        }
      },
      "execution_count": 28,
      "outputs": [
        {
          "output_type": "stream",
          "name": "stdout",
          "text": [
            "Accuracy: 0.63\n",
            "Classification Report:\n",
            "               precision    recall  f1-score   support\n",
            "\n",
            "           0       0.55      0.43      0.48      1312\n",
            "           1       0.67      0.76      0.71      1988\n",
            "\n",
            "    accuracy                           0.63      3300\n",
            "   macro avg       0.61      0.60      0.60      3300\n",
            "weighted avg       0.62      0.63      0.62      3300\n",
            "\n"
          ]
        }
      ]
    },
    {
      "cell_type": "code",
      "source": [
        "# Compute the confusion matrix\n",
        "print(confusion_matrix(y_test, y_pred))\n",
        ""
      ],
      "metadata": {
        "id": "xVHDW_7-N4K5",
        "outputId": "26d2d39a-f0f4-4cb3-e402-4ba9bacb5623",
        "colab": {
          "base_uri": "https://localhost:8080/"
        }
      },
      "execution_count": 29,
      "outputs": [
        {
          "output_type": "stream",
          "name": "stdout",
          "text": [
            "[[ 565  747]\n",
            " [ 468 1520]]\n"
          ]
        }
      ]
    },
    {
      "cell_type": "code",
      "source": [],
      "metadata": {
        "id": "WDknWw-9N5dn"
      },
      "execution_count": null,
      "outputs": []
    }
  ]
}